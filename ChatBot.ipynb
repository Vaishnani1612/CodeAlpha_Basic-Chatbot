{
 "cells": [
  {
   "cell_type": "code",
   "execution_count": null,
   "id": "b01de30b-f232-4a56-8a2a-e71b43758a1c",
   "metadata": {},
   "outputs": [
    {
     "name": "stdout",
     "output_type": "stream",
     "text": [
      "Welcome to the chatbot! Type 'quit' to exit.\n"
     ]
    },
    {
     "name": "stdin",
     "output_type": "stream",
     "text": [
      ">  hello\n"
     ]
    },
    {
     "name": "stdout",
     "output_type": "stream",
     "text": [
      "Greetings!\n"
     ]
    },
    {
     "name": "stdin",
     "output_type": "stream",
     "text": [
      ">  how are you\n"
     ]
    },
    {
     "name": "stdout",
     "output_type": "stream",
     "text": [
      "I'm feeling quite good. How about yourself?\n"
     ]
    },
    {
     "name": "stdin",
     "output_type": "stream",
     "text": [
      ">  tell me a joke\n"
     ]
    },
    {
     "name": "stdout",
     "output_type": "stream",
     "text": [
      "I tried starting a hot air balloon business, but it never took off!\n"
     ]
    },
    {
     "name": "stdin",
     "output_type": "stream",
     "text": [
      ">  what's the weather like\n"
     ]
    },
    {
     "name": "stdout",
     "output_type": "stream",
     "text": [
      "It's raining outside at the moment.\n"
     ]
    },
    {
     "name": "stdin",
     "output_type": "stream",
     "text": [
      ">  what's your favorite color\n"
     ]
    },
    {
     "name": "stdout",
     "output_type": "stream",
     "text": [
      "I appreciate all colors equally.\n"
     ]
    },
    {
     "name": "stdin",
     "output_type": "stream",
     "text": [
      ">  what can you do\n"
     ]
    },
    {
     "name": "stdout",
     "output_type": "stream",
     "text": [
      "I am capable of answering your questions, providing summaries of factual topics, or crafting creative stories. What would you like to explore?\n"
     ]
    },
    {
     "name": "stdin",
     "output_type": "stream",
     "text": [
      ">  give me a riddle\n"
     ]
    },
    {
     "name": "stdout",
     "output_type": "stream",
     "text": [
      "I have cities, but no houses. I have mountains, but no trees. I have water, but no fish. What am I?\n"
     ]
    },
    {
     "name": "stdin",
     "output_type": "stream",
     "text": [
      ">  map\n"
     ]
    },
    {
     "name": "stdout",
     "output_type": "stream",
     "text": [
      "I'm still learning. Could you please rephrase your question?\n"
     ]
    },
    {
     "name": "stdin",
     "output_type": "stream",
     "text": [
      ">  goodbye\n"
     ]
    },
    {
     "name": "stdout",
     "output_type": "stream",
     "text": [
      "Farewell! Have a wonderful day!\n"
     ]
    }
   ],
   "source": [
    "import nltk\n",
    "from nltk.chat.util import Chat\n",
    "\n",
    "pairs = [\n",
    "    [\"hello\", [\"Greetings!\", \"How can I assist you today?\"]],\n",
    "    [\"how are you\", [\"I'm doing very well, thank you!\", \"I'm feeling quite good. How about yourself?\"]],\n",
    "    [\"what can you do\", [\"I am capable of answering your questions, providing summaries of factual topics, or crafting creative stories. What would you like to explore?\"]],\n",
    "    [\"tell me a joke\", [\"I tried starting a hot air balloon business, but it never took off!\"]],\n",
    "    [\"goodbye\", [\"Farewell! Have a wonderful day!\"]],\n",
    "    [\"what's the weather like\", [\"The weather today is sunny.\", \"It's raining outside at the moment.\", \"The sky is currently overcast.\", \"It's snowing heavily.\"] ],\n",
    "    [\"what's your favorite color\", [\"My favorite color is a serene blue.\", \"I do not have a preferred color.\", \"I appreciate all colors equally.\"]],\n",
    "    [\"give me a riddle\", [\"I have cities, but no houses. I have mountains, but no trees. I have water, but no fish. What am I?\"]],\n",
    "]\n",
    "\n",
    "def chat(pairs, reflections):\n",
    "    # Create a chat session\n",
    "    chatbot = Chat(pairs, reflections)\n",
    "    print(\"Welcome to the chatbot! Type 'quit' to exit.\")\n",
    "    while True:\n",
    "        user_input = input(\"> \")\n",
    "        if user_input.lower() == 'quit':\n",
    "            break\n",
    "        response = chatbot.respond(user_input)\n",
    "        if response is None:\n",
    "            response = \"I'm still learning. Could you please rephrase your question?\"\n",
    "        print(response)\n",
    "\n",
    "# Run the chatbot\n",
    "reflections = {\n",
    "    \"am\": \"are\",\n",
    "    \"what\": \"that\",\n",
    "    \"can\": \"could\",\n",
    "    \"will\": \"would\",\n",
    "    \"were\": \"was\",\n",
    "    \"just\": \"\",\n",
    "    \"should\": \"should\",\n",
    "    \"may\": \"might\",\n",
    "    \"isn't\": \"is not\",\n",
    "    \"aren't\": \"are not\",\n",
    "    \"wasn't\": \"was not\",\n",
    "    \"weren't\": \"were not\",\n",
    "    \"haven't\": \"have not\",\n",
    "    \"hasn't\": \"has not\",\n",
    "    \"don't\": \"do not\",\n",
    "    \"doesn't\": \"does not\",\n",
    "    \"didn't\": \"did not\",\n",
    "    \"won't\": \"will not\",\n",
    "    \"can't\": \"cannot\",\n",
    "    \"shouldn't\": \"should not\"\n",
    "}\n",
    "\n",
    "# Add riddle and answer\n",
    "riddle = \"I have cities, but no houses. I have mountains, but no trees. I have water, but no fish. What am I?\"\n",
    "answer = \"map\"\n",
    "\n",
    "chat(pairs, reflections)\n",
    "\n",
    "# Ask for riddle answer\n",
    "user_answer = input(\"What is the answer to the riddle? \")\n",
    "if user_answer.lower() == answer.lower():\n",
    "    print(\"Correct!\")\n",
    "else:\n",
    "    print(\"Incorrect. The answer is:\", answer)\n",
    "\n",
    "# Keep the chatbot running in an interactive environment\n",
    "while True:\n",
    "    user_input = input(\"> \")\n",
    "    if user_input.lower() == 'quit':\n",
    "        break\n",
    "    response = chatbot.respond(user_input)\n",
    "    if response is None:\n",
    "        response = \"I'm still learning. Could you please rephrase your question?\"\n",
    "    print(response)"
   ]
  },
  {
   "cell_type": "code",
   "execution_count": null,
   "id": "5c2decb3-8108-43a6-9ad8-a5fb3d06159d",
   "metadata": {},
   "outputs": [],
   "source": []
  },
  {
   "cell_type": "code",
   "execution_count": null,
   "id": "c7f4a10c-e36e-4d1b-9bf5-f222c887b5e2",
   "metadata": {},
   "outputs": [],
   "source": []
  }
 ],
 "metadata": {
  "kernelspec": {
   "display_name": "Python 3 (ipykernel)",
   "language": "python",
   "name": "python3"
  },
  "language_info": {
   "codemirror_mode": {
    "name": "ipython",
    "version": 3
   },
   "file_extension": ".py",
   "mimetype": "text/x-python",
   "name": "python",
   "nbconvert_exporter": "python",
   "pygments_lexer": "ipython3",
   "version": "3.12.4"
  }
 },
 "nbformat": 4,
 "nbformat_minor": 5
}
